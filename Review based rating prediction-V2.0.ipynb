{
 "cells": [
  {
   "cell_type": "markdown",
   "metadata": {},
   "source": [
    "<p>\n",
    "    Stars rating ~ text words + cool + useful + funny\n",
    "</p>\n",
    "<p>\n",
    "    -  BALANCING THE TRAINING DATA (SMOTE)\n",
    "</p>\n",
    "<p>\n",
    "    -  Stars' classes: Positive Neutral Negative\n",
    "</p>"
   ]
  },
  {
   "cell_type": "markdown",
   "metadata": {},
   "source": [
    "## Imports"
   ]
  },
  {
   "cell_type": "code",
   "execution_count": 1,
   "metadata": {
    "ExecuteTime": {
     "end_time": "2018-12-06T08:17:15.787927Z",
     "start_time": "2018-12-06T08:17:14.597660Z"
    }
   },
   "outputs": [],
   "source": [
    "import matplotlib.pyplot as plt\n",
    "import pandas as pd"
   ]
  },
  {
   "cell_type": "markdown",
   "metadata": {},
   "source": [
    "## Collecting the data"
   ]
  },
  {
   "cell_type": "code",
   "execution_count": 2,
   "metadata": {
    "ExecuteTime": {
     "end_time": "2018-12-06T08:17:38.981918Z",
     "start_time": "2018-12-06T08:17:38.646280Z"
    }
   },
   "outputs": [],
   "source": [
    "reviews = pd.read_csv('data/yelp_cleveland_reviews.csv')"
   ]
  },
  {
   "cell_type": "code",
   "execution_count": 3,
   "metadata": {
    "ExecuteTime": {
     "end_time": "2018-12-06T08:17:40.053257Z",
     "start_time": "2018-12-06T08:17:39.983962Z"
    }
   },
   "outputs": [
    {
     "data": {
      "text/html": [
       "<div>\n",
       "<style scoped>\n",
       "    .dataframe tbody tr th:only-of-type {\n",
       "        vertical-align: middle;\n",
       "    }\n",
       "\n",
       "    .dataframe tbody tr th {\n",
       "        vertical-align: top;\n",
       "    }\n",
       "\n",
       "    .dataframe thead th {\n",
       "        text-align: right;\n",
       "    }\n",
       "</style>\n",
       "<table border=\"1\" class=\"dataframe\">\n",
       "  <thead>\n",
       "    <tr style=\"text-align: right;\">\n",
       "      <th></th>\n",
       "      <th>business_id</th>\n",
       "      <th>cool</th>\n",
       "      <th>date</th>\n",
       "      <th>funny</th>\n",
       "      <th>review_id</th>\n",
       "      <th>stars</th>\n",
       "      <th>text</th>\n",
       "      <th>useful</th>\n",
       "      <th>user_id</th>\n",
       "    </tr>\n",
       "  </thead>\n",
       "  <tbody>\n",
       "    <tr>\n",
       "      <th>0</th>\n",
       "      <td>8FZftD3Y5jQ2R44EDBqhlA</td>\n",
       "      <td>0</td>\n",
       "      <td>2015-09-07</td>\n",
       "      <td>0</td>\n",
       "      <td>dHdboRPMv_WVxSNGAjBMiw</td>\n",
       "      <td>5</td>\n",
       "      <td>one of my favorite restaurants. has tons of ve...</td>\n",
       "      <td>0</td>\n",
       "      <td>vW2q5cwiMrfbZjo8fzzaeA</td>\n",
       "    </tr>\n",
       "    <tr>\n",
       "      <th>1</th>\n",
       "      <td>fypwhb4PNHv2S6MXPNgbbg</td>\n",
       "      <td>1</td>\n",
       "      <td>2014-04-14</td>\n",
       "      <td>0</td>\n",
       "      <td>8XeF_RwlqRqFCoYEg2NixA</td>\n",
       "      <td>5</td>\n",
       "      <td>I've been going here for the past 5 years and ...</td>\n",
       "      <td>2</td>\n",
       "      <td>NChcXITFjP6a5H2U59ER5Q</td>\n",
       "    </tr>\n",
       "    <tr>\n",
       "      <th>2</th>\n",
       "      <td>K6fYrrTorlpXmqutRcrHzg</td>\n",
       "      <td>0</td>\n",
       "      <td>2017-06-20</td>\n",
       "      <td>1</td>\n",
       "      <td>Nc7gC3D6OkWDU_coG3wF-A</td>\n",
       "      <td>3</td>\n",
       "      <td>SUMMARY: It's ok. Patio part might be better.\\...</td>\n",
       "      <td>0</td>\n",
       "      <td>M-7nUa_vzkOMLa535H-QiQ</td>\n",
       "    </tr>\n",
       "    <tr>\n",
       "      <th>3</th>\n",
       "      <td>IIrneqFRcQO3LrFxUfehSA</td>\n",
       "      <td>0</td>\n",
       "      <td>2012-10-07</td>\n",
       "      <td>0</td>\n",
       "      <td>wraetOHpStjAb35OCPCLEQ</td>\n",
       "      <td>2</td>\n",
       "      <td>We were in town to catch the Indians game and ...</td>\n",
       "      <td>0</td>\n",
       "      <td>xz_ipuAQSdmfq8ahELEdzQ</td>\n",
       "    </tr>\n",
       "    <tr>\n",
       "      <th>4</th>\n",
       "      <td>JYFYfJL6t1EK99xofAjJUw</td>\n",
       "      <td>0</td>\n",
       "      <td>2013-05-19</td>\n",
       "      <td>0</td>\n",
       "      <td>uSbrPl0y6AsvrVvIE_UD_w</td>\n",
       "      <td>5</td>\n",
       "      <td>Another old time Cleveland classic!! Brings ba...</td>\n",
       "      <td>1</td>\n",
       "      <td>gy2RL-w8eLPuisYZqpwN1g</td>\n",
       "    </tr>\n",
       "  </tbody>\n",
       "</table>\n",
       "</div>"
      ],
      "text/plain": [
       "              business_id  cool        date  funny               review_id  \\\n",
       "0  8FZftD3Y5jQ2R44EDBqhlA     0  2015-09-07      0  dHdboRPMv_WVxSNGAjBMiw   \n",
       "1  fypwhb4PNHv2S6MXPNgbbg     1  2014-04-14      0  8XeF_RwlqRqFCoYEg2NixA   \n",
       "2  K6fYrrTorlpXmqutRcrHzg     0  2017-06-20      1  Nc7gC3D6OkWDU_coG3wF-A   \n",
       "3  IIrneqFRcQO3LrFxUfehSA     0  2012-10-07      0  wraetOHpStjAb35OCPCLEQ   \n",
       "4  JYFYfJL6t1EK99xofAjJUw     0  2013-05-19      0  uSbrPl0y6AsvrVvIE_UD_w   \n",
       "\n",
       "   stars                                               text  useful  \\\n",
       "0      5  one of my favorite restaurants. has tons of ve...       0   \n",
       "1      5  I've been going here for the past 5 years and ...       2   \n",
       "2      3  SUMMARY: It's ok. Patio part might be better.\\...       0   \n",
       "3      2  We were in town to catch the Indians game and ...       0   \n",
       "4      5  Another old time Cleveland classic!! Brings ba...       1   \n",
       "\n",
       "                  user_id  \n",
       "0  vW2q5cwiMrfbZjo8fzzaeA  \n",
       "1  NChcXITFjP6a5H2U59ER5Q  \n",
       "2  M-7nUa_vzkOMLa535H-QiQ  \n",
       "3  xz_ipuAQSdmfq8ahELEdzQ  \n",
       "4  gy2RL-w8eLPuisYZqpwN1g  "
      ]
     },
     "execution_count": 3,
     "metadata": {},
     "output_type": "execute_result"
    }
   ],
   "source": [
    "reviews.head()"
   ]
  },
  {
   "cell_type": "code",
   "execution_count": 4,
   "metadata": {
    "ExecuteTime": {
     "end_time": "2018-12-02T00:14:30.632682Z",
     "start_time": "2018-12-02T00:14:30.603621Z"
    }
   },
   "outputs": [
    {
     "data": {
      "text/plain": [
       "Index(['business_id', 'cool', 'date', 'funny', 'review_id', 'stars', 'text',\n",
       "       'useful', 'user_id'],\n",
       "      dtype='object')"
      ]
     },
     "execution_count": 4,
     "metadata": {},
     "output_type": "execute_result"
    }
   ],
   "source": [
    "reviews.columns"
   ]
  },
  {
   "cell_type": "code",
   "execution_count": 6,
   "metadata": {
    "ExecuteTime": {
     "end_time": "2018-12-01T16:34:12.551464Z",
     "start_time": "2018-12-01T16:34:12.486129Z"
    }
   },
   "outputs": [
    {
     "data": {
      "text/plain": [
       "business_id    0\n",
       "cool           0\n",
       "date           0\n",
       "funny          0\n",
       "review_id      0\n",
       "stars          0\n",
       "text           0\n",
       "useful         0\n",
       "user_id        0\n",
       "dtype: int64"
      ]
     },
     "execution_count": 6,
     "metadata": {},
     "output_type": "execute_result"
    }
   ],
   "source": [
    "reviews.isna().sum()"
   ]
  },
  {
   "cell_type": "code",
   "execution_count": 6,
   "metadata": {
    "ExecuteTime": {
     "end_time": "2018-11-29T22:48:35.765845Z",
     "start_time": "2018-11-29T22:48:35.698481Z"
    }
   },
   "outputs": [
    {
     "name": "stdout",
     "output_type": "stream",
     "text": [
      "<class 'pandas.core.frame.DataFrame'>\n",
      "RangeIndex: 91057 entries, 0 to 91056\n",
      "Data columns (total 9 columns):\n",
      "business_id    91057 non-null object\n",
      "cool           91057 non-null int64\n",
      "date           91057 non-null datetime64[ns]\n",
      "funny          91057 non-null int64\n",
      "review_id      91057 non-null object\n",
      "stars          91057 non-null int64\n",
      "text           91057 non-null object\n",
      "useful         91057 non-null int64\n",
      "user_id        91057 non-null object\n",
      "dtypes: datetime64[ns](1), int64(4), object(4)\n",
      "memory usage: 6.3+ MB\n"
     ]
    }
   ],
   "source": [
    "reviews.info()"
   ]
  },
  {
   "cell_type": "markdown",
   "metadata": {},
   "source": [
    "## Selecting the data to work on"
   ]
  },
  {
   "cell_type": "code",
   "execution_count": 108,
   "metadata": {
    "ExecuteTime": {
     "end_time": "2018-12-02T20:32:36.259582Z",
     "start_time": "2018-12-02T20:32:36.246527Z"
    }
   },
   "outputs": [],
   "source": [
    "data = reviews[['stars', 'text']] \n",
    "#data = reviews[['stars', 'text', 'cool', 'useful', 'funny']] "
   ]
  },
  {
   "cell_type": "code",
   "execution_count": 6,
   "metadata": {
    "ExecuteTime": {
     "end_time": "2018-12-02T20:01:46.322472Z",
     "start_time": "2018-12-02T20:01:46.308798Z"
    }
   },
   "outputs": [
    {
     "data": {
      "text/html": [
       "<div>\n",
       "<style scoped>\n",
       "    .dataframe tbody tr th:only-of-type {\n",
       "        vertical-align: middle;\n",
       "    }\n",
       "\n",
       "    .dataframe tbody tr th {\n",
       "        vertical-align: top;\n",
       "    }\n",
       "\n",
       "    .dataframe thead th {\n",
       "        text-align: right;\n",
       "    }\n",
       "</style>\n",
       "<table border=\"1\" class=\"dataframe\">\n",
       "  <thead>\n",
       "    <tr style=\"text-align: right;\">\n",
       "      <th></th>\n",
       "      <th>stars</th>\n",
       "      <th>text</th>\n",
       "    </tr>\n",
       "  </thead>\n",
       "  <tbody>\n",
       "    <tr>\n",
       "      <th>0</th>\n",
       "      <td>3</td>\n",
       "      <td>Dipped cone all the way! This location is tric...</td>\n",
       "    </tr>\n",
       "    <tr>\n",
       "      <th>1</th>\n",
       "      <td>5</td>\n",
       "      <td>Always amazing food and service. Love their ch...</td>\n",
       "    </tr>\n",
       "    <tr>\n",
       "      <th>2</th>\n",
       "      <td>1</td>\n",
       "      <td>This place is literally the worst. Hopefully t...</td>\n",
       "    </tr>\n",
       "    <tr>\n",
       "      <th>3</th>\n",
       "      <td>3</td>\n",
       "      <td>Very nice and new. Staff is always friendly bu...</td>\n",
       "    </tr>\n",
       "    <tr>\n",
       "      <th>4</th>\n",
       "      <td>3</td>\n",
       "      <td>Nothing special about this place, their ice cr...</td>\n",
       "    </tr>\n",
       "  </tbody>\n",
       "</table>\n",
       "</div>"
      ],
      "text/plain": [
       "   stars                                               text\n",
       "0      3  Dipped cone all the way! This location is tric...\n",
       "1      5  Always amazing food and service. Love their ch...\n",
       "2      1  This place is literally the worst. Hopefully t...\n",
       "3      3  Very nice and new. Staff is always friendly bu...\n",
       "4      3  Nothing special about this place, their ice cr..."
      ]
     },
     "execution_count": 6,
     "metadata": {},
     "output_type": "execute_result"
    }
   ],
   "source": [
    "data.head()"
   ]
  },
  {
   "cell_type": "code",
   "execution_count": 7,
   "metadata": {
    "ExecuteTime": {
     "end_time": "2018-12-02T20:01:48.334842Z",
     "start_time": "2018-12-02T20:01:47.772281Z"
    }
   },
   "outputs": [
    {
     "data": {
      "image/png": "[encoded data removed]",
      "text/plain": [
       "<Figure size 432x288 with 1 Axes>"
      ]
     },
     "metadata": {
      "needs_background": "light"
     },
     "output_type": "display_data"
    }
   ],
   "source": [
    "def plot_stars_frequencies(df):\n",
    "    new_df = pd.DataFrame(df['stars'].value_counts())\n",
    "    new_df.columns =['frequency']\n",
    "    new_df = new_df.sort_index(ascending=True)\n",
    "    new_df.plot(kind='bar')\n",
    "\n",
    "plot_stars_frequencies(data)"
   ]
  },
  {
   "cell_type": "markdown",
   "metadata": {},
   "source": [
    "## Update stars categories\n",
    "-  Negative class (-1) for 1 and 2 stars rating\n",
    "-  Neutral class (0) for 3 star rating\n",
    "-  Positive class(+1) for 4 and 5 stars rating"
   ]
  },
  {
   "cell_type": "code",
   "execution_count": 9,
   "metadata": {
    "ExecuteTime": {
     "end_time": "2018-12-02T20:04:51.299048Z",
     "start_time": "2018-12-02T20:04:51.130831Z"
    }
   },
   "outputs": [
    {
     "name": "stderr",
     "output_type": "stream",
     "text": [
      "/home/whitenoise/anaconda3/lib/python3.5/site-packages/ipykernel_launcher.py:9: SettingWithCopyWarning: \n",
      "A value is trying to be set on a copy of a slice from a DataFrame.\n",
      "Try using .loc[row_indexer,col_indexer] = value instead\n",
      "\n",
      "See the caveats in the documentation: http://pandas.pydata.org/pandas-docs/stable/indexing.html#indexing-view-versus-copy\n",
      "  if __name__ == '__main__':\n"
     ]
    }
   ],
   "source": [
    "new_stars = []\n",
    "for star in data['stars']:\n",
    "    if star==1 or star==2:\n",
    "        new_stars.append(-1)\n",
    "    elif star==4 or star==5:\n",
    "        new_stars.append(1)\n",
    "    else:\n",
    "        new_stars.append(0)\n",
    "data['new_stars'] = new_stars"
   ]
  },
  {
   "cell_type": "code",
   "execution_count": 11,
   "metadata": {
    "ExecuteTime": {
     "end_time": "2018-12-02T20:06:41.320583Z",
     "start_time": "2018-12-02T20:06:41.272117Z"
    }
   },
   "outputs": [],
   "source": [
    "data = data.drop('stars', 1)\n",
    "data.columns = ['text', 'stars']"
   ]
  },
  {
   "cell_type": "code",
   "execution_count": 77,
   "metadata": {
    "ExecuteTime": {
     "end_time": "2018-12-02T20:25:45.834926Z",
     "start_time": "2018-12-02T20:25:45.824521Z"
    }
   },
   "outputs": [
    {
     "data": {
      "text/html": [
       "<div>\n",
       "<style scoped>\n",
       "    .dataframe tbody tr th:only-of-type {\n",
       "        vertical-align: middle;\n",
       "    }\n",
       "\n",
       "    .dataframe tbody tr th {\n",
       "        vertical-align: top;\n",
       "    }\n",
       "\n",
       "    .dataframe thead th {\n",
       "        text-align: right;\n",
       "    }\n",
       "</style>\n",
       "<table border=\"1\" class=\"dataframe\">\n",
       "  <thead>\n",
       "    <tr style=\"text-align: right;\">\n",
       "      <th></th>\n",
       "      <th>text</th>\n",
       "      <th>stars</th>\n",
       "    </tr>\n",
       "  </thead>\n",
       "  <tbody>\n",
       "    <tr>\n",
       "      <th>0</th>\n",
       "      <td>Dipped cone all the way! This location is tric...</td>\n",
       "      <td>0</td>\n",
       "    </tr>\n",
       "    <tr>\n",
       "      <th>1</th>\n",
       "      <td>Always amazing food and service. Love their ch...</td>\n",
       "      <td>1</td>\n",
       "    </tr>\n",
       "    <tr>\n",
       "      <th>2</th>\n",
       "      <td>This place is literally the worst. Hopefully t...</td>\n",
       "      <td>-1</td>\n",
       "    </tr>\n",
       "    <tr>\n",
       "      <th>3</th>\n",
       "      <td>Very nice and new. Staff is always friendly bu...</td>\n",
       "      <td>0</td>\n",
       "    </tr>\n",
       "    <tr>\n",
       "      <th>4</th>\n",
       "      <td>Nothing special about this place, their ice cr...</td>\n",
       "      <td>0</td>\n",
       "    </tr>\n",
       "  </tbody>\n",
       "</table>\n",
       "</div>"
      ],
      "text/plain": [
       "                                                text  stars\n",
       "0  Dipped cone all the way! This location is tric...      0\n",
       "1  Always amazing food and service. Love their ch...      1\n",
       "2  This place is literally the worst. Hopefully t...     -1\n",
       "3  Very nice and new. Staff is always friendly bu...      0\n",
       "4  Nothing special about this place, their ice cr...      0"
      ]
     },
     "execution_count": 77,
     "metadata": {},
     "output_type": "execute_result"
    }
   ],
   "source": [
    "data.head()"
   ]
  },
  {
   "cell_type": "markdown",
   "metadata": {},
   "source": [
    "## Subsample the data"
   ]
  },
  {
   "cell_type": "code",
   "execution_count": 109,
   "metadata": {
    "ExecuteTime": {
     "end_time": "2018-12-02T20:32:46.424117Z",
     "start_time": "2018-12-02T20:32:46.261968Z"
    }
   },
   "outputs": [],
   "source": [
    "sample_size = 20000 # Above 20% of the original size\n",
    "sample = data.sample(sample_size)\n",
    "sample = sample.reset_index(drop=True)"
   ]
  },
  {
   "cell_type": "code",
   "execution_count": 110,
   "metadata": {
    "ExecuteTime": {
     "end_time": "2018-12-02T20:32:47.762030Z",
     "start_time": "2018-12-02T20:32:47.371633Z"
    }
   },
   "outputs": [
    {
     "data": {
      "image/png": "[encoded data removed]",
      "text/plain": [
       "<Figure size 432x288 with 1 Axes>"
      ]
     },
     "metadata": {
      "needs_background": "light"
     },
     "output_type": "display_data"
    }
   ],
   "source": [
    "plot_stars_frequencies(sample)"
   ]
  },
  {
   "cell_type": "markdown",
   "metadata": {},
   "source": [
    "## Data cleaning"
   ]
  },
  {
   "cell_type": "markdown",
   "metadata": {
    "heading_collapsed": true
   },
   "source": [
    "### Removing punctuation\n"
   ]
  },
  {
   "cell_type": "code",
   "execution_count": 111,
   "metadata": {
    "ExecuteTime": {
     "end_time": "2018-12-02T20:32:51.841693Z",
     "start_time": "2018-12-02T20:32:51.837085Z"
    },
    "hidden": true
   },
   "outputs": [],
   "source": [
    "def remove_punctuation(text):\n",
    "    '''a function for removing punctuation'''\n",
    "    import string\n",
    "    translator = str.maketrans('', '', string.punctuation)\n",
    "    return text.translate(translator)"
   ]
  },
  {
   "cell_type": "code",
   "execution_count": 112,
   "metadata": {
    "ExecuteTime": {
     "end_time": "2018-12-02T20:32:52.780912Z",
     "start_time": "2018-12-02T20:32:52.570752Z"
    },
    "hidden": true
   },
   "outputs": [],
   "source": [
    "# Apply remove_punctuation to each row of data['text'] \n",
    "sample['text'] = sample['text'].apply(remove_punctuation)"
   ]
  },
  {
   "cell_type": "markdown",
   "metadata": {
    "heading_collapsed": true
   },
   "source": [
    "### Removing stopwords\n"
   ]
  },
  {
   "cell_type": "code",
   "execution_count": 113,
   "metadata": {
    "ExecuteTime": {
     "end_time": "2018-12-02T20:32:55.334684Z",
     "start_time": "2018-12-02T20:32:55.327822Z"
    },
    "hidden": true
   },
   "outputs": [],
   "source": [
    "def remove_stopwords(text):\n",
    "    from nltk.corpus import stopwords\n",
    "    '''a function for removing the stopword'''\n",
    "    sw = stopwords.words('english')\n",
    "    # removing the stop words and lowercasing the selected words\n",
    "    text = [word.lower() for word in text.split() if word.lower() not in sw]\n",
    "    # joining the list of words with space separator\n",
    "    return \" \".join(text)"
   ]
  },
  {
   "cell_type": "code",
   "execution_count": 114,
   "metadata": {
    "ExecuteTime": {
     "end_time": "2018-12-02T20:33:04.044209Z",
     "start_time": "2018-12-02T20:32:56.031993Z"
    },
    "hidden": true
   },
   "outputs": [],
   "source": [
    "# Apply remove_stopwords to each row of data['text'] \n",
    "sample['text'] = sample['text'].apply(remove_stopwords)"
   ]
  },
  {
   "cell_type": "markdown",
   "metadata": {
    "heading_collapsed": true
   },
   "source": [
    "### Stemming words\n"
   ]
  },
  {
   "cell_type": "code",
   "execution_count": 115,
   "metadata": {
    "ExecuteTime": {
     "end_time": "2018-12-02T20:33:04.644485Z",
     "start_time": "2018-12-02T20:33:04.629387Z"
    },
    "hidden": true
   },
   "outputs": [],
   "source": [
    "def stemming(text): \n",
    "    '''a function which stems each word in the given text'''\n",
    "    from nltk.stem.snowball import SnowballStemmer\n",
    "    stemmer = SnowballStemmer(\"english\")\n",
    "    text = [stemmer.stem(word) for word in text.split()]\n",
    "    return \" \".join(text) "
   ]
  },
  {
   "cell_type": "code",
   "execution_count": 116,
   "metadata": {
    "ExecuteTime": {
     "end_time": "2018-12-02T20:33:29.184018Z",
     "start_time": "2018-12-02T20:33:05.330433Z"
    },
    "hidden": true
   },
   "outputs": [],
   "source": [
    "# Apply remove_punctuation to each row of data['text'] \n",
    "sample['text'] = sample['text'].apply(stemming)"
   ]
  },
  {
   "cell_type": "markdown",
   "metadata": {},
   "source": [
    "## TF-IDF\n"
   ]
  },
  {
   "cell_type": "code",
   "execution_count": 117,
   "metadata": {
    "ExecuteTime": {
     "end_time": "2018-12-02T20:33:34.903116Z",
     "start_time": "2018-12-02T20:33:33.423886Z"
    }
   },
   "outputs": [
    {
     "name": "stdout",
     "output_type": "stream",
     "text": [
      "32917\n"
     ]
    }
   ],
   "source": [
    "from sklearn.feature_extraction.text import TfidfVectorizer\n",
    "# create a count vectorizer object\n",
    "vectorizer = TfidfVectorizer(dtype=np.float32)\n",
    "# fit the count vectorizer using the text data\n",
    "tfidf_matrix = vectorizer.fit_transform(sample['text'].values)\n",
    "\n",
    "print(len(vectorizer.get_feature_names()))\n"
   ]
  },
  {
   "cell_type": "code",
   "execution_count": 118,
   "metadata": {
    "ExecuteTime": {
     "end_time": "2018-12-02T20:35:52.467196Z",
     "start_time": "2018-12-02T20:33:41.032829Z"
    }
   },
   "outputs": [],
   "source": [
    "def get_word_freq(tfidf, vectorizer):\n",
    "    return sorted([(tfidf.getcol(idx).sum(), word)\n",
    "                   for word, idx in vectorizer.vocabulary_.items()],\n",
    "                  reverse=True)\n",
    "\n",
    "words_tfidf_scores = get_word_freq(tfidf_matrix, vectorizer) # matrix of each word and its tfidf score"
   ]
  },
  {
   "cell_type": "code",
   "execution_count": 119,
   "metadata": {
    "ExecuteTime": {
     "end_time": "2018-12-02T20:35:59.211710Z",
     "start_time": "2018-12-02T20:35:59.158362Z"
    },
    "code_folding": []
   },
   "outputs": [],
   "source": [
    "# transform tfidf scores matrix into pandas dataframe\n",
    "words_tfidf_scores_df = pd.DataFrame(words_tfidf_scores, dtype=np.float32) \n",
    "words_tfidf_scores_df.columns = ['tfidf_score', 'token']\n",
    "words_tfidf_scores_df = words_tfidf_scores_df.set_index('token')"
   ]
  },
  {
   "cell_type": "markdown",
   "metadata": {
    "heading_collapsed": true
   },
   "source": [
    "### Infos about 'words_tfidf_scores' dataframe"
   ]
  },
  {
   "cell_type": "code",
   "execution_count": 89,
   "metadata": {
    "ExecuteTime": {
     "end_time": "2018-12-02T20:29:34.534771Z",
     "start_time": "2018-12-02T20:29:34.518753Z"
    },
    "hidden": true
   },
   "outputs": [
    {
     "data": {
      "text/html": [
       "<div>\n",
       "<style scoped>\n",
       "    .dataframe tbody tr th:only-of-type {\n",
       "        vertical-align: middle;\n",
       "    }\n",
       "\n",
       "    .dataframe tbody tr th {\n",
       "        vertical-align: top;\n",
       "    }\n",
       "\n",
       "    .dataframe thead th {\n",
       "        text-align: right;\n",
       "    }\n",
       "</style>\n",
       "<table border=\"1\" class=\"dataframe\">\n",
       "  <thead>\n",
       "    <tr style=\"text-align: right;\">\n",
       "      <th></th>\n",
       "      <th>tfidf_score</th>\n",
       "    </tr>\n",
       "    <tr>\n",
       "      <th>token</th>\n",
       "      <th></th>\n",
       "    </tr>\n",
       "  </thead>\n",
       "  <tbody>\n",
       "    <tr>\n",
       "      <th>food</th>\n",
       "      <td>651.666504</td>\n",
       "    </tr>\n",
       "    <tr>\n",
       "      <th>great</th>\n",
       "      <td>618.949341</td>\n",
       "    </tr>\n",
       "    <tr>\n",
       "      <th>place</th>\n",
       "      <td>617.844421</td>\n",
       "    </tr>\n",
       "    <tr>\n",
       "      <th>good</th>\n",
       "      <td>596.602417</td>\n",
       "    </tr>\n",
       "    <tr>\n",
       "      <th>servic</th>\n",
       "      <td>436.754913</td>\n",
       "    </tr>\n",
       "  </tbody>\n",
       "</table>\n",
       "</div>"
      ],
      "text/plain": [
       "        tfidf_score\n",
       "token              \n",
       "food     651.666504\n",
       "great    618.949341\n",
       "place    617.844421\n",
       "good     596.602417\n",
       "servic   436.754913"
      ]
     },
     "execution_count": 89,
     "metadata": {},
     "output_type": "execute_result"
    }
   ],
   "source": [
    "words_tfidf_scores_df.head()"
   ]
  },
  {
   "cell_type": "code",
   "execution_count": 20,
   "metadata": {
    "ExecuteTime": {
     "end_time": "2018-12-02T00:17:17.160117Z",
     "start_time": "2018-12-02T00:17:17.151475Z"
    },
    "hidden": true
   },
   "outputs": [
    {
     "name": "stdout",
     "output_type": "stream",
     "text": [
      "<class 'pandas.core.frame.DataFrame'>\n",
      "Index: 28640 entries, food to partsservic\n",
      "Data columns (total 1 columns):\n",
      "tfidf_score    28640 non-null float32\n",
      "dtypes: float32(1)\n",
      "memory usage: 335.6+ KB\n"
     ]
    }
   ],
   "source": [
    "words_tfidf_scores_df.info()"
   ]
  },
  {
   "cell_type": "code",
   "execution_count": 22,
   "metadata": {
    "ExecuteTime": {
     "end_time": "2018-11-30T17:06:31.611087Z",
     "start_time": "2018-11-30T17:06:31.606091Z"
    },
    "hidden": true
   },
   "outputs": [
    {
     "data": {
      "text/plain": [
       "(28470, 1)"
      ]
     },
     "execution_count": 22,
     "metadata": {},
     "output_type": "execute_result"
    }
   ],
   "source": [
    "words_tfidf_scores_df.shape"
   ]
  },
  {
   "cell_type": "markdown",
   "metadata": {
    "heading_collapsed": true
   },
   "source": [
    "### Histogram of the 100 highest"
   ]
  },
  {
   "cell_type": "code",
   "execution_count": 44,
   "metadata": {
    "ExecuteTime": {
     "end_time": "2018-11-30T00:13:31.435451Z",
     "start_time": "2018-11-30T00:13:29.055618Z"
    },
    "hidden": true
   },
   "outputs": [
    {
     "data": {
      "image/png": "[encoded data removed]",
      "text/plain": [
       "<Figure size 1728x3600 with 1 Axes>"
      ]
     },
     "metadata": {
      "needs_background": "light"
     },
     "output_type": "display_data"
    }
   ],
   "source": [
    "plt.rcParams['figure.figsize'] = (24, 50)\n",
    "plt.rcParams['font.size'] = 22\n",
    "ax = words_tfidf_scores_df.head(100).plot(kind='barh')\n",
    "ax.invert_yaxis()"
   ]
  },
  {
   "cell_type": "markdown",
   "metadata": {
    "heading_collapsed": true
   },
   "source": [
    "### Histogram the 100 lowest "
   ]
  },
  {
   "cell_type": "code",
   "execution_count": 46,
   "metadata": {
    "ExecuteTime": {
     "end_time": "2018-11-30T00:14:47.711541Z",
     "start_time": "2018-11-30T00:14:45.157129Z"
    },
    "hidden": true
   },
   "outputs": [
    {
     "data": {
      "image/png": "[encoded data removed]",
      "text/plain": [
       "<Figure size 1728x3600 with 1 Axes>"
      ]
     },
     "metadata": {
      "needs_background": "light"
     },
     "output_type": "display_data"
    }
   ],
   "source": [
    "plt.rcParams['figure.figsize'] = (24, 50)\n",
    "plt.rcParams['font.size'] = 22\n",
    "ax = words_tfidf_scores_df.tail(100).plot(kind='barh')\n",
    "ax.invert_yaxis()"
   ]
  },
  {
   "cell_type": "markdown",
   "metadata": {
    "ExecuteTime": {
     "end_time": "2018-11-30T00:15:20.245807Z",
     "start_time": "2018-11-30T00:15:20.242539Z"
    }
   },
   "source": [
    "## Features selection and creating the final dataframe for the training phase with respect to the features that've been selected"
   ]
  },
  {
   "cell_type": "code",
   "execution_count": 120,
   "metadata": {
    "ExecuteTime": {
     "end_time": "2018-12-02T20:36:04.433915Z",
     "start_time": "2018-12-02T20:36:04.430470Z"
    }
   },
   "outputs": [],
   "source": [
    "def getKey(dict, value):\n",
    "    '''get dictionnary key from its value'''\n",
    "    \n",
    "    return [key for key in dict.keys() if (dict[key] == value)][0] #Because a value can't be present in multiple keys\n"
   ]
  },
  {
   "cell_type": "code",
   "execution_count": 121,
   "metadata": {
    "ExecuteTime": {
     "end_time": "2018-12-02T20:36:16.666076Z",
     "start_time": "2018-12-02T20:36:05.849101Z"
    }
   },
   "outputs": [
    {
     "data": {
      "text/html": [
       "<div>\n",
       "<style scoped>\n",
       "    .dataframe tbody tr th:only-of-type {\n",
       "        vertical-align: middle;\n",
       "    }\n",
       "\n",
       "    .dataframe tbody tr th {\n",
       "        vertical-align: top;\n",
       "    }\n",
       "\n",
       "    .dataframe thead th {\n",
       "        text-align: right;\n",
       "    }\n",
       "</style>\n",
       "<table border=\"1\" class=\"dataframe\">\n",
       "  <thead>\n",
       "    <tr style=\"text-align: right;\">\n",
       "      <th></th>\n",
       "      <th>food</th>\n",
       "      <th>great</th>\n",
       "      <th>place</th>\n",
       "      <th>good</th>\n",
       "      <th>servic</th>\n",
       "      <th>time</th>\n",
       "      <th>go</th>\n",
       "      <th>like</th>\n",
       "      <th>order</th>\n",
       "      <th>get</th>\n",
       "      <th>...</th>\n",
       "      <th>pair</th>\n",
       "      <th>spectacular</th>\n",
       "      <th>pot</th>\n",
       "      <th>oyster</th>\n",
       "      <th>member</th>\n",
       "      <th>smaller</th>\n",
       "      <th>forgot</th>\n",
       "      <th>overwhelm</th>\n",
       "      <th>christma</th>\n",
       "      <th>stars</th>\n",
       "    </tr>\n",
       "  </thead>\n",
       "  <tbody>\n",
       "    <tr>\n",
       "      <th>0</th>\n",
       "      <td>0.066027</td>\n",
       "      <td>0.070468</td>\n",
       "      <td>0.000000</td>\n",
       "      <td>0.000000</td>\n",
       "      <td>0.315837</td>\n",
       "      <td>0.0</td>\n",
       "      <td>0.000000</td>\n",
       "      <td>0.0</td>\n",
       "      <td>0.171729</td>\n",
       "      <td>0.078872</td>\n",
       "      <td>...</td>\n",
       "      <td>0.0</td>\n",
       "      <td>0.0</td>\n",
       "      <td>0.0</td>\n",
       "      <td>0.0</td>\n",
       "      <td>0.0</td>\n",
       "      <td>0.0</td>\n",
       "      <td>0.0</td>\n",
       "      <td>0.0</td>\n",
       "      <td>0.0</td>\n",
       "      <td>4</td>\n",
       "    </tr>\n",
       "    <tr>\n",
       "      <th>1</th>\n",
       "      <td>0.120030</td>\n",
       "      <td>0.000000</td>\n",
       "      <td>0.118100</td>\n",
       "      <td>0.000000</td>\n",
       "      <td>0.000000</td>\n",
       "      <td>0.0</td>\n",
       "      <td>0.000000</td>\n",
       "      <td>0.0</td>\n",
       "      <td>0.000000</td>\n",
       "      <td>0.000000</td>\n",
       "      <td>...</td>\n",
       "      <td>0.0</td>\n",
       "      <td>0.0</td>\n",
       "      <td>0.0</td>\n",
       "      <td>0.0</td>\n",
       "      <td>0.0</td>\n",
       "      <td>0.0</td>\n",
       "      <td>0.0</td>\n",
       "      <td>0.0</td>\n",
       "      <td>0.0</td>\n",
       "      <td>5</td>\n",
       "    </tr>\n",
       "    <tr>\n",
       "      <th>2</th>\n",
       "      <td>0.036462</td>\n",
       "      <td>0.000000</td>\n",
       "      <td>0.000000</td>\n",
       "      <td>0.075263</td>\n",
       "      <td>0.043604</td>\n",
       "      <td>0.0</td>\n",
       "      <td>0.000000</td>\n",
       "      <td>0.0</td>\n",
       "      <td>0.047417</td>\n",
       "      <td>0.087111</td>\n",
       "      <td>...</td>\n",
       "      <td>0.0</td>\n",
       "      <td>0.0</td>\n",
       "      <td>0.0</td>\n",
       "      <td>0.0</td>\n",
       "      <td>0.0</td>\n",
       "      <td>0.0</td>\n",
       "      <td>0.0</td>\n",
       "      <td>0.0</td>\n",
       "      <td>0.0</td>\n",
       "      <td>3</td>\n",
       "    </tr>\n",
       "    <tr>\n",
       "      <th>3</th>\n",
       "      <td>0.000000</td>\n",
       "      <td>0.000000</td>\n",
       "      <td>0.040612</td>\n",
       "      <td>0.042599</td>\n",
       "      <td>0.000000</td>\n",
       "      <td>0.0</td>\n",
       "      <td>0.048197</td>\n",
       "      <td>0.0</td>\n",
       "      <td>0.053677</td>\n",
       "      <td>0.000000</td>\n",
       "      <td>...</td>\n",
       "      <td>0.0</td>\n",
       "      <td>0.0</td>\n",
       "      <td>0.0</td>\n",
       "      <td>0.0</td>\n",
       "      <td>0.0</td>\n",
       "      <td>0.0</td>\n",
       "      <td>0.0</td>\n",
       "      <td>0.0</td>\n",
       "      <td>0.0</td>\n",
       "      <td>1</td>\n",
       "    </tr>\n",
       "    <tr>\n",
       "      <th>4</th>\n",
       "      <td>0.029424</td>\n",
       "      <td>0.000000</td>\n",
       "      <td>0.057902</td>\n",
       "      <td>0.030368</td>\n",
       "      <td>0.000000</td>\n",
       "      <td>0.0</td>\n",
       "      <td>0.068716</td>\n",
       "      <td>0.0</td>\n",
       "      <td>0.000000</td>\n",
       "      <td>0.035148</td>\n",
       "      <td>...</td>\n",
       "      <td>0.0</td>\n",
       "      <td>0.0</td>\n",
       "      <td>0.0</td>\n",
       "      <td>0.0</td>\n",
       "      <td>0.0</td>\n",
       "      <td>0.0</td>\n",
       "      <td>0.0</td>\n",
       "      <td>0.0</td>\n",
       "      <td>0.0</td>\n",
       "      <td>1</td>\n",
       "    </tr>\n",
       "  </tbody>\n",
       "</table>\n",
       "<p>5 rows × 1002 columns</p>\n",
       "</div>"
      ],
      "text/plain": [
       "       food     great     place      good    servic  time        go  like  \\\n",
       "0  0.066027  0.070468  0.000000  0.000000  0.315837   0.0  0.000000   0.0   \n",
       "1  0.120030  0.000000  0.118100  0.000000  0.000000   0.0  0.000000   0.0   \n",
       "2  0.036462  0.000000  0.000000  0.075263  0.043604   0.0  0.000000   0.0   \n",
       "3  0.000000  0.000000  0.040612  0.042599  0.000000   0.0  0.048197   0.0   \n",
       "4  0.029424  0.000000  0.057902  0.030368  0.000000   0.0  0.068716   0.0   \n",
       "\n",
       "      order       get  ...    pair  spectacular  pot  oyster  member  smaller  \\\n",
       "0  0.171729  0.078872  ...     0.0          0.0  0.0     0.0     0.0      0.0   \n",
       "1  0.000000  0.000000  ...     0.0          0.0  0.0     0.0     0.0      0.0   \n",
       "2  0.047417  0.087111  ...     0.0          0.0  0.0     0.0     0.0      0.0   \n",
       "3  0.053677  0.000000  ...     0.0          0.0  0.0     0.0     0.0      0.0   \n",
       "4  0.000000  0.035148  ...     0.0          0.0  0.0     0.0     0.0      0.0   \n",
       "\n",
       "   forgot  overwhelm  christma  stars  \n",
       "0     0.0        0.0       0.0      4  \n",
       "1     0.0        0.0       0.0      5  \n",
       "2     0.0        0.0       0.0      3  \n",
       "3     0.0        0.0       0.0      1  \n",
       "4     0.0        0.0       0.0      1  \n",
       "\n",
       "[5 rows x 1002 columns]"
      ]
     },
     "execution_count": 121,
     "metadata": {},
     "output_type": "execute_result"
    }
   ],
   "source": [
    "#total_words = len(words_tfidf_scores_df)\n",
    "#features_size = int(total_words * 0.2)\n",
    "\n",
    "top_features_size = 1001\n",
    "\n",
    "top_features_names = words_tfidf_scores_df.index.values[:top_features_size] # Extracting the top 20% features' names\n",
    "\n",
    "# And their corresponding indices from the 'vectorizer.vocabulary_' dictionnary\n",
    "top_features_indices = [\n",
    "    vectorizer.vocabulary_.get(top_features_names[i]) for i in range(len(top_features_names))\n",
    "]\n",
    "\n",
    "# Creating the final dataframe from the tfidf_matrix with respect to the top features\n",
    "final_df = pd.DataFrame()\n",
    "\n",
    "for top_feature_index in top_features_indices:\n",
    "    final_df[getKey(vectorizer.vocabulary_, top_feature_index)] = pd.Series(tfidf_matrix.getcol(top_feature_index).toarray().ravel())\n",
    "\n",
    "final_df['stars'] = sample['stars']\n",
    "\n",
    "final_df.head()"
   ]
  },
  {
   "cell_type": "code",
   "execution_count": 92,
   "metadata": {
    "ExecuteTime": {
     "end_time": "2018-12-02T20:30:03.819414Z",
     "start_time": "2018-12-02T20:30:03.625325Z"
    }
   },
   "outputs": [
    {
     "data": {
      "image/png": "[encoded data removed]",
      "text/plain": [
       "<Figure size 432x288 with 1 Axes>"
      ]
     },
     "metadata": {
      "needs_background": "light"
     },
     "output_type": "display_data"
    }
   ],
   "source": [
    "plot_stars_frequencies(final_df)"
   ]
  },
  {
   "cell_type": "markdown",
   "metadata": {},
   "source": [
    "## Model fitting"
   ]
  },
  {
   "cell_type": "markdown",
   "metadata": {
    "heading_collapsed": true
   },
   "source": [
    "### Utility functions"
   ]
  },
  {
   "cell_type": "code",
   "execution_count": 29,
   "metadata": {
    "ExecuteTime": {
     "end_time": "2018-12-02T20:10:50.606066Z",
     "start_time": "2018-12-02T20:10:50.595955Z"
    },
    "hidden": true
   },
   "outputs": [],
   "source": [
    "def pretty_print_cm(cm, labels, normalize=False):\n",
    "    \"\"\"pretty print confusion matrices\"\"\"\n",
    "    import seaborn as sns\n",
    "    from sklearn.preprocessing import scale\n",
    "    \n",
    "    title = 'Confusion matrix'\n",
    "    if normalize:\n",
    "        cm = cm.astype('float') / cm.sum(axis=1)[:, np.newaxis]\n",
    "        title = ' '.join(['Normalized', title])\n",
    "    \n",
    "    conf_mat = pd.DataFrame(cm, columns=labels, index=labels)\n",
    "    conf_mat.index.name = 'True \\ Predicted'\n",
    "    ax = sns.heatmap(conf_mat, annot=True, cmap='Blues', fmt='g')\n",
    "    ax.set_xlabel('Predicted')\n",
    "    ax.set_ylabel('True')\n",
    "    ax.set_title(title)\n",
    "    plt.show()"
   ]
  },
  {
   "cell_type": "code",
   "execution_count": 30,
   "metadata": {
    "ExecuteTime": {
     "end_time": "2018-12-02T20:10:51.593624Z",
     "start_time": "2018-12-02T20:10:51.587798Z"
    },
    "hidden": true
   },
   "outputs": [],
   "source": [
    "def generate_prediction_results(y_true, y_pred):\n",
    "    \"\"\"generate classification report and confusion matrix on a given true and predicted values\"\"\"\n",
    "    from sklearn.metrics import classification_report, confusion_matrix\n",
    "\n",
    "    conf_mat = confusion_matrix(y_true, y_pred)\n",
    "    class_report = classification_report(y_true, y_pred, output_dict=True)\n",
    "    return conf_mat, class_report"
   ]
  },
  {
   "cell_type": "markdown",
   "metadata": {},
   "source": [
    "### Train/Test split\n",
    "<p>The training error is included in order to check for overfitting</p>"
   ]
  },
  {
   "cell_type": "code",
   "execution_count": 93,
   "metadata": {
    "ExecuteTime": {
     "end_time": "2018-12-02T20:30:08.197964Z",
     "start_time": "2018-12-02T20:30:08.036798Z"
    }
   },
   "outputs": [],
   "source": [
    "from sklearn.model_selection import train_test_split\n",
    "\n",
    "X = final_df.drop(['stars'], 1)\n",
    "y = final_df['stars']\n",
    "\n",
    "X_train, X_test, y_train, y_test = train_test_split(\n",
    "    X, y, test_size=0.2)\n"
   ]
  },
  {
   "cell_type": "markdown",
   "metadata": {},
   "source": [
    "##### Balancing the training set"
   ]
  },
  {
   "cell_type": "code",
   "execution_count": 94,
   "metadata": {
    "ExecuteTime": {
     "end_time": "2018-12-02T20:30:09.896457Z",
     "start_time": "2018-12-02T20:30:09.675576Z"
    }
   },
   "outputs": [
    {
     "data": {
      "text/plain": [
       "<matplotlib.axes._subplots.AxesSubplot at 0x7f9687a2ce80>"
      ]
     },
     "execution_count": 94,
     "metadata": {},
     "output_type": "execute_result"
    },
    {
     "data": {
      "image/png": "[encoded data removed]",
      "text/plain": [
       "<Figure size 432x288 with 1 Axes>"
      ]
     },
     "metadata": {
      "needs_background": "light"
     },
     "output_type": "display_data"
    }
   ],
   "source": [
    "# Visualizing the training set imbalanced data\n",
    "pd.DataFrame(y_train.value_counts()).plot(kind='bar')"
   ]
  },
  {
   "cell_type": "code",
   "execution_count": 95,
   "metadata": {
    "ExecuteTime": {
     "end_time": "2018-12-02T20:30:37.679408Z",
     "start_time": "2018-12-02T20:30:13.266540Z"
    }
   },
   "outputs": [],
   "source": [
    "# Balancing the training set before training the models\n",
    "from imblearn.over_sampling import SMOTE\n",
    "\n",
    "sm = SMOTE()\n",
    "x_cols = X_train.columns\n",
    "X_train, y_train = sm.fit_sample(X_train, y_train)\n",
    "X_train = pd.DataFrame(X_train, columns=x_cols)\n",
    "y_train = pd.Series(y_train)"
   ]
  },
  {
   "cell_type": "code",
   "execution_count": 96,
   "metadata": {
    "ExecuteTime": {
     "end_time": "2018-12-02T20:30:45.052780Z",
     "start_time": "2018-12-02T20:30:44.859951Z"
    }
   },
   "outputs": [
    {
     "data": {
      "text/plain": [
       "<matplotlib.axes._subplots.AxesSubplot at 0x7f9685d26c88>"
      ]
     },
     "execution_count": 96,
     "metadata": {},
     "output_type": "execute_result"
    },
    {
     "data": {
      "image/png": "[encoded data removed]",
      "text/plain": [
       "<Figure size 432x288 with 1 Axes>"
      ]
     },
     "metadata": {
      "needs_background": "light"
     },
     "output_type": "display_data"
    }
   ],
   "source": [
    "# Visualizing the training set imbalanced data\n",
    "pd.DataFrame(y_train.value_counts()).plot(kind='bar')"
   ]
  },
  {
   "cell_type": "markdown",
   "metadata": {
    "heading_collapsed": true
   },
   "source": [
    "#### Naive Bayes"
   ]
  },
  {
   "cell_type": "code",
   "execution_count": 35,
   "metadata": {
    "ExecuteTime": {
     "end_time": "2018-12-02T20:11:48.529816Z",
     "start_time": "2018-12-02T20:11:46.528823Z"
    },
    "hidden": true
   },
   "outputs": [],
   "source": [
    "from sklearn.naive_bayes import GaussianNB\n",
    "\n",
    "clf = GaussianNB()\n",
    "clf.fit(X_train, y_train)\n",
    "NB_predictions_test = clf.predict(X_test)\n",
    "NB_predictions_train = clf.predict(X_train)"
   ]
  },
  {
   "cell_type": "markdown",
   "metadata": {
    "heading_collapsed": true,
    "hidden": true
   },
   "source": [
    "##### Prediction results"
   ]
  },
  {
   "cell_type": "code",
   "execution_count": 36,
   "metadata": {
    "ExecuteTime": {
     "end_time": "2018-12-02T20:11:53.755023Z",
     "start_time": "2018-12-02T20:11:53.697330Z"
    },
    "hidden": true
   },
   "outputs": [],
   "source": [
    "NB_confusion_matrix_test, NB_classification_report_test = generate_prediction_results(y_test, NB_predictions_test)\n",
    "NB_confusion_matrix_train, NB_classification_report_train = generate_prediction_results(y_train, NB_predictions_train)"
   ]
  },
  {
   "cell_type": "markdown",
   "metadata": {
    "hidden": true
   },
   "source": [
    "<p><b>On the training set:</b></p>"
   ]
  },
  {
   "cell_type": "code",
   "execution_count": 38,
   "metadata": {
    "ExecuteTime": {
     "end_time": "2018-12-02T20:12:06.787368Z",
     "start_time": "2018-12-02T20:12:06.086595Z"
    },
    "hidden": true
   },
   "outputs": [
    {
     "data": {
      "image/png": "[encoded data removed]",
      "text/plain": [
       "<Figure size 432x288 with 2 Axes>"
      ]
     },
     "metadata": {
      "needs_background": "light"
     },
     "output_type": "display_data"
    }
   ],
   "source": [
    "# Confusion matrix\n",
    "labels = [-1, 0, 1]\n",
    "pretty_print_cm(NB_confusion_matrix_train, labels)"
   ]
  },
  {
   "cell_type": "code",
   "execution_count": 39,
   "metadata": {
    "ExecuteTime": {
     "end_time": "2018-12-02T20:12:14.249039Z",
     "start_time": "2018-12-02T20:12:14.233935Z"
    },
    "hidden": true
   },
   "outputs": [
    {
     "data": {
      "text/html": [
       "<div>\n",
       "<style scoped>\n",
       "    .dataframe tbody tr th:only-of-type {\n",
       "        vertical-align: middle;\n",
       "    }\n",
       "\n",
       "    .dataframe tbody tr th {\n",
       "        vertical-align: top;\n",
       "    }\n",
       "\n",
       "    .dataframe thead th {\n",
       "        text-align: right;\n",
       "    }\n",
       "</style>\n",
       "<table border=\"1\" class=\"dataframe\">\n",
       "  <thead>\n",
       "    <tr style=\"text-align: right;\">\n",
       "      <th></th>\n",
       "      <th>-1</th>\n",
       "      <th>0</th>\n",
       "      <th>1</th>\n",
       "      <th>macro avg</th>\n",
       "      <th>micro avg</th>\n",
       "      <th>weighted avg</th>\n",
       "    </tr>\n",
       "  </thead>\n",
       "  <tbody>\n",
       "    <tr>\n",
       "      <th>f1-score</th>\n",
       "      <td>0.771759</td>\n",
       "      <td>0.713058</td>\n",
       "      <td>0.787966</td>\n",
       "      <td>0.757594</td>\n",
       "      <td>0.758209</td>\n",
       "      <td>0.757594</td>\n",
       "    </tr>\n",
       "    <tr>\n",
       "      <th>precision</th>\n",
       "      <td>0.780389</td>\n",
       "      <td>0.729660</td>\n",
       "      <td>0.763445</td>\n",
       "      <td>0.757831</td>\n",
       "      <td>0.758209</td>\n",
       "      <td>0.757831</td>\n",
       "    </tr>\n",
       "    <tr>\n",
       "      <th>recall</th>\n",
       "      <td>0.763317</td>\n",
       "      <td>0.697194</td>\n",
       "      <td>0.814114</td>\n",
       "      <td>0.758209</td>\n",
       "      <td>0.758209</td>\n",
       "      <td>0.758209</td>\n",
       "    </tr>\n",
       "    <tr>\n",
       "      <th>support</th>\n",
       "      <td>8091.000000</td>\n",
       "      <td>8091.000000</td>\n",
       "      <td>8091.000000</td>\n",
       "      <td>24273.000000</td>\n",
       "      <td>24273.000000</td>\n",
       "      <td>24273.000000</td>\n",
       "    </tr>\n",
       "  </tbody>\n",
       "</table>\n",
       "</div>"
      ],
      "text/plain": [
       "                    -1            0            1     macro avg     micro avg  \\\n",
       "f1-score      0.771759     0.713058     0.787966      0.757594      0.758209   \n",
       "precision     0.780389     0.729660     0.763445      0.757831      0.758209   \n",
       "recall        0.763317     0.697194     0.814114      0.758209      0.758209   \n",
       "support    8091.000000  8091.000000  8091.000000  24273.000000  24273.000000   \n",
       "\n",
       "           weighted avg  \n",
       "f1-score       0.757594  \n",
       "precision      0.757831  \n",
       "recall         0.758209  \n",
       "support    24273.000000  "
      ]
     },
     "execution_count": 39,
     "metadata": {},
     "output_type": "execute_result"
    }
   ],
   "source": [
    "# classification report\n",
    "pd.DataFrame(NB_classification_report_train)"
   ]
  },
  {
   "cell_type": "markdown",
   "metadata": {
    "hidden": true
   },
   "source": [
    "<p><b>On the test set:</b></p>"
   ]
  },
  {
   "cell_type": "code",
   "execution_count": 41,
   "metadata": {
    "ExecuteTime": {
     "end_time": "2018-12-02T20:12:25.328850Z",
     "start_time": "2018-12-02T20:12:25.053661Z"
    },
    "hidden": true
   },
   "outputs": [
    {
     "data": {
      "image/png": "[encoded data removed]",
      "text/plain": [
       "<Figure size 432x288 with 2 Axes>"
      ]
     },
     "metadata": {
      "needs_background": "light"
     },
     "output_type": "display_data"
    }
   ],
   "source": [
    "# Confusion matrix\n",
    "labels = [-1, 0, 1]\n",
    "pretty_print_cm(NB_confusion_matrix_test, labels)"
   ]
  },
  {
   "cell_type": "code",
   "execution_count": 42,
   "metadata": {
    "ExecuteTime": {
     "end_time": "2018-12-02T20:12:28.888786Z",
     "start_time": "2018-12-02T20:12:28.873530Z"
    },
    "hidden": true
   },
   "outputs": [
    {
     "name": "stdout",
     "output_type": "stream",
     "text": [
      "Classification report: \n",
      "\n"
     ]
    },
    {
     "data": {
      "text/html": [
       "<div>\n",
       "<style scoped>\n",
       "    .dataframe tbody tr th:only-of-type {\n",
       "        vertical-align: middle;\n",
       "    }\n",
       "\n",
       "    .dataframe tbody tr th {\n",
       "        vertical-align: top;\n",
       "    }\n",
       "\n",
       "    .dataframe thead th {\n",
       "        text-align: right;\n",
       "    }\n",
       "</style>\n",
       "<table border=\"1\" class=\"dataframe\">\n",
       "  <thead>\n",
       "    <tr style=\"text-align: right;\">\n",
       "      <th></th>\n",
       "      <th>-1</th>\n",
       "      <th>0</th>\n",
       "      <th>1</th>\n",
       "      <th>macro avg</th>\n",
       "      <th>micro avg</th>\n",
       "      <th>weighted avg</th>\n",
       "    </tr>\n",
       "  </thead>\n",
       "  <tbody>\n",
       "    <tr>\n",
       "      <th>f1-score</th>\n",
       "      <td>0.584814</td>\n",
       "      <td>0.226365</td>\n",
       "      <td>0.806283</td>\n",
       "      <td>0.539154</td>\n",
       "      <td>0.688</td>\n",
       "      <td>0.691650</td>\n",
       "    </tr>\n",
       "    <tr>\n",
       "      <th>precision</th>\n",
       "      <td>0.583871</td>\n",
       "      <td>0.215736</td>\n",
       "      <td>0.814199</td>\n",
       "      <td>0.537935</td>\n",
       "      <td>0.688</td>\n",
       "      <td>0.695535</td>\n",
       "    </tr>\n",
       "    <tr>\n",
       "      <th>recall</th>\n",
       "      <td>0.585761</td>\n",
       "      <td>0.238095</td>\n",
       "      <td>0.798519</td>\n",
       "      <td>0.540791</td>\n",
       "      <td>0.688</td>\n",
       "      <td>0.688000</td>\n",
       "    </tr>\n",
       "    <tr>\n",
       "      <th>support</th>\n",
       "      <td>618.000000</td>\n",
       "      <td>357.000000</td>\n",
       "      <td>2025.000000</td>\n",
       "      <td>3000.000000</td>\n",
       "      <td>3000.000</td>\n",
       "      <td>3000.000000</td>\n",
       "    </tr>\n",
       "  </tbody>\n",
       "</table>\n",
       "</div>"
      ],
      "text/plain": [
       "                   -1           0            1    macro avg  micro avg  \\\n",
       "f1-score     0.584814    0.226365     0.806283     0.539154      0.688   \n",
       "precision    0.583871    0.215736     0.814199     0.537935      0.688   \n",
       "recall       0.585761    0.238095     0.798519     0.540791      0.688   \n",
       "support    618.000000  357.000000  2025.000000  3000.000000   3000.000   \n",
       "\n",
       "           weighted avg  \n",
       "f1-score       0.691650  \n",
       "precision      0.695535  \n",
       "recall         0.688000  \n",
       "support     3000.000000  "
      ]
     },
     "execution_count": 42,
     "metadata": {},
     "output_type": "execute_result"
    }
   ],
   "source": [
    "# Classification report\n",
    "print('Classification report: \\n')\n",
    "pd.DataFrame(NB_classification_report_test)"
   ]
  },
  {
   "cell_type": "markdown",
   "metadata": {},
   "source": [
    "#### Multinomial Naive Bayes"
   ]
  },
  {
   "cell_type": "code",
   "execution_count": 97,
   "metadata": {
    "ExecuteTime": {
     "end_time": "2018-12-02T20:30:54.520635Z",
     "start_time": "2018-12-02T20:30:54.125022Z"
    }
   },
   "outputs": [],
   "source": [
    "from sklearn.naive_bayes import MultinomialNB\n",
    "\n",
    "clf = MultinomialNB()\n",
    "clf.fit(X_train, y_train)\n",
    "MNB_predictions_train = clf.predict(X_train)\n",
    "MNB_predictions_test = clf.predict(X_test)"
   ]
  },
  {
   "cell_type": "markdown",
   "metadata": {
    "heading_collapsed": true
   },
   "source": [
    "##### Prediction results"
   ]
  },
  {
   "cell_type": "markdown",
   "metadata": {
    "hidden": true
   },
   "source": [
    "<p><b>On the training set</b></p>"
   ]
  },
  {
   "cell_type": "code",
   "execution_count": 98,
   "metadata": {
    "ExecuteTime": {
     "end_time": "2018-12-02T20:30:56.031196Z",
     "start_time": "2018-12-02T20:30:55.943233Z"
    },
    "hidden": true
   },
   "outputs": [],
   "source": [
    "MNB_confusion_matrix_train, MNB_classification_report_train = generate_prediction_results(y_train, MNB_predictions_train)"
   ]
  },
  {
   "cell_type": "code",
   "execution_count": 99,
   "metadata": {
    "ExecuteTime": {
     "end_time": "2018-12-02T20:30:56.847504Z",
     "start_time": "2018-12-02T20:30:56.610715Z"
    },
    "hidden": true
   },
   "outputs": [
    {
     "data": {
      "image/png": "[encoded data removed]",
      "text/plain": [
       "<Figure size 432x288 with 2 Axes>"
      ]
     },
     "metadata": {
      "needs_background": "light"
     },
     "output_type": "display_data"
    }
   ],
   "source": [
    "# Confusion matrix\n",
    "labels = [-1, 0, 1]\n",
    "pretty_print_cm(MNB_confusion_matrix_train, labels)"
   ]
  },
  {
   "cell_type": "code",
   "execution_count": 100,
   "metadata": {
    "ExecuteTime": {
     "end_time": "2018-12-02T20:30:57.597766Z",
     "start_time": "2018-12-02T20:30:57.581353Z"
    },
    "hidden": true
   },
   "outputs": [
    {
     "data": {
      "text/html": [
       "<div>\n",
       "<style scoped>\n",
       "    .dataframe tbody tr th:only-of-type {\n",
       "        vertical-align: middle;\n",
       "    }\n",
       "\n",
       "    .dataframe tbody tr th {\n",
       "        vertical-align: top;\n",
       "    }\n",
       "\n",
       "    .dataframe thead th {\n",
       "        text-align: right;\n",
       "    }\n",
       "</style>\n",
       "<table border=\"1\" class=\"dataframe\">\n",
       "  <thead>\n",
       "    <tr style=\"text-align: right;\">\n",
       "      <th></th>\n",
       "      <th>-1</th>\n",
       "      <th>0</th>\n",
       "      <th>1</th>\n",
       "      <th>macro avg</th>\n",
       "      <th>micro avg</th>\n",
       "      <th>weighted avg</th>\n",
       "    </tr>\n",
       "  </thead>\n",
       "  <tbody>\n",
       "    <tr>\n",
       "      <th>f1-score</th>\n",
       "      <td>0.822228</td>\n",
       "      <td>0.745550</td>\n",
       "      <td>0.806571</td>\n",
       "      <td>0.791450</td>\n",
       "      <td>0.791904</td>\n",
       "      <td>0.791450</td>\n",
       "    </tr>\n",
       "    <tr>\n",
       "      <th>precision</th>\n",
       "      <td>0.806643</td>\n",
       "      <td>0.758917</td>\n",
       "      <td>0.808511</td>\n",
       "      <td>0.791357</td>\n",
       "      <td>0.791904</td>\n",
       "      <td>0.791357</td>\n",
       "    </tr>\n",
       "    <tr>\n",
       "      <th>recall</th>\n",
       "      <td>0.838428</td>\n",
       "      <td>0.732646</td>\n",
       "      <td>0.804640</td>\n",
       "      <td>0.791904</td>\n",
       "      <td>0.791904</td>\n",
       "      <td>0.791904</td>\n",
       "    </tr>\n",
       "    <tr>\n",
       "      <th>support</th>\n",
       "      <td>10862.000000</td>\n",
       "      <td>10862.000000</td>\n",
       "      <td>10862.000000</td>\n",
       "      <td>32586.000000</td>\n",
       "      <td>32586.000000</td>\n",
       "      <td>32586.000000</td>\n",
       "    </tr>\n",
       "  </tbody>\n",
       "</table>\n",
       "</div>"
      ],
      "text/plain": [
       "                     -1             0             1     macro avg  \\\n",
       "f1-score       0.822228      0.745550      0.806571      0.791450   \n",
       "precision      0.806643      0.758917      0.808511      0.791357   \n",
       "recall         0.838428      0.732646      0.804640      0.791904   \n",
       "support    10862.000000  10862.000000  10862.000000  32586.000000   \n",
       "\n",
       "              micro avg  weighted avg  \n",
       "f1-score       0.791904      0.791450  \n",
       "precision      0.791904      0.791357  \n",
       "recall         0.791904      0.791904  \n",
       "support    32586.000000  32586.000000  "
      ]
     },
     "execution_count": 100,
     "metadata": {},
     "output_type": "execute_result"
    }
   ],
   "source": [
    "# Classification report\n",
    "pd.DataFrame(MNB_classification_report_train)"
   ]
  },
  {
   "cell_type": "markdown",
   "metadata": {
    "ExecuteTime": {
     "end_time": "2018-12-02T01:12:25.396248Z",
     "start_time": "2018-12-02T01:12:25.389859Z"
    },
    "hidden": true
   },
   "source": [
    "<p><b>On the test set</b></p>"
   ]
  },
  {
   "cell_type": "code",
   "execution_count": 101,
   "metadata": {
    "ExecuteTime": {
     "end_time": "2018-12-02T20:31:02.096419Z",
     "start_time": "2018-12-02T20:31:02.079967Z"
    },
    "hidden": true
   },
   "outputs": [],
   "source": [
    "MNB_confusion_matrix_test, MNB_classification_report_test = generate_prediction_results(y_test, MNB_predictions_test)"
   ]
  },
  {
   "cell_type": "code",
   "execution_count": 102,
   "metadata": {
    "ExecuteTime": {
     "end_time": "2018-12-02T20:31:02.987240Z",
     "start_time": "2018-12-02T20:31:02.753808Z"
    },
    "hidden": true
   },
   "outputs": [
    {
     "data": {
      "image/png": "[encoded data removed]",
      "text/plain": [
       "<Figure size 432x288 with 2 Axes>"
      ]
     },
     "metadata": {
      "needs_background": "light"
     },
     "output_type": "display_data"
    }
   ],
   "source": [
    "# Confusion matrix\n",
    "labels = [-1, 0, 1]\n",
    "pretty_print_cm(MNB_confusion_matrix_test, labels)"
   ]
  },
  {
   "cell_type": "code",
   "execution_count": 103,
   "metadata": {
    "ExecuteTime": {
     "end_time": "2018-12-02T20:31:05.044955Z",
     "start_time": "2018-12-02T20:31:05.024577Z"
    },
    "hidden": true
   },
   "outputs": [
    {
     "data": {
      "text/html": [
       "<div>\n",
       "<style scoped>\n",
       "    .dataframe tbody tr th:only-of-type {\n",
       "        vertical-align: middle;\n",
       "    }\n",
       "\n",
       "    .dataframe tbody tr th {\n",
       "        vertical-align: top;\n",
       "    }\n",
       "\n",
       "    .dataframe thead th {\n",
       "        text-align: right;\n",
       "    }\n",
       "</style>\n",
       "<table border=\"1\" class=\"dataframe\">\n",
       "  <thead>\n",
       "    <tr style=\"text-align: right;\">\n",
       "      <th></th>\n",
       "      <th>-1</th>\n",
       "      <th>0</th>\n",
       "      <th>1</th>\n",
       "      <th>macro avg</th>\n",
       "      <th>micro avg</th>\n",
       "      <th>weighted avg</th>\n",
       "    </tr>\n",
       "  </thead>\n",
       "  <tbody>\n",
       "    <tr>\n",
       "      <th>f1-score</th>\n",
       "      <td>0.663496</td>\n",
       "      <td>0.404706</td>\n",
       "      <td>0.845528</td>\n",
       "      <td>0.637910</td>\n",
       "      <td>0.737</td>\n",
       "      <td>0.750404</td>\n",
       "    </tr>\n",
       "    <tr>\n",
       "      <th>precision</th>\n",
       "      <td>0.622074</td>\n",
       "      <td>0.350543</td>\n",
       "      <td>0.900718</td>\n",
       "      <td>0.624445</td>\n",
       "      <td>0.737</td>\n",
       "      <td>0.771898</td>\n",
       "    </tr>\n",
       "    <tr>\n",
       "      <th>recall</th>\n",
       "      <td>0.710828</td>\n",
       "      <td>0.478664</td>\n",
       "      <td>0.796712</td>\n",
       "      <td>0.662068</td>\n",
       "      <td>0.737</td>\n",
       "      <td>0.737000</td>\n",
       "    </tr>\n",
       "    <tr>\n",
       "      <th>support</th>\n",
       "      <td>785.000000</td>\n",
       "      <td>539.000000</td>\n",
       "      <td>2676.000000</td>\n",
       "      <td>4000.000000</td>\n",
       "      <td>4000.000</td>\n",
       "      <td>4000.000000</td>\n",
       "    </tr>\n",
       "  </tbody>\n",
       "</table>\n",
       "</div>"
      ],
      "text/plain": [
       "                   -1           0            1    macro avg  micro avg  \\\n",
       "f1-score     0.663496    0.404706     0.845528     0.637910      0.737   \n",
       "precision    0.622074    0.350543     0.900718     0.624445      0.737   \n",
       "recall       0.710828    0.478664     0.796712     0.662068      0.737   \n",
       "support    785.000000  539.000000  2676.000000  4000.000000   4000.000   \n",
       "\n",
       "           weighted avg  \n",
       "f1-score       0.750404  \n",
       "precision      0.771898  \n",
       "recall         0.737000  \n",
       "support     4000.000000  "
      ]
     },
     "execution_count": 103,
     "metadata": {},
     "output_type": "execute_result"
    }
   ],
   "source": [
    "# Classification report\n",
    "pd.DataFrame(MNB_classification_report_test)"
   ]
  },
  {
   "cell_type": "markdown",
   "metadata": {
    "heading_collapsed": true
   },
   "source": [
    "#### Logistic Regression"
   ]
  },
  {
   "cell_type": "code",
   "execution_count": 110,
   "metadata": {
    "ExecuteTime": {
     "end_time": "2018-12-02T01:08:59.490937Z",
     "start_time": "2018-12-02T01:08:57.498842Z"
    },
    "hidden": true
   },
   "outputs": [],
   "source": [
    "from sklearn.linear_model import LogisticRegression\n",
    "\n",
    "clf = LogisticRegression(solver='lbfgs', multi_class='multinomial', max_iter=500)\n",
    "clf.fit(X_train, y_train)\n",
    "\n",
    "LR_predictions_train = clf.predict(X_train)\n",
    "LR_predictions_test = clf.predict(X_test)"
   ]
  },
  {
   "cell_type": "markdown",
   "metadata": {
    "heading_collapsed": true,
    "hidden": true
   },
   "source": [
    "##### Prediction results"
   ]
  },
  {
   "cell_type": "markdown",
   "metadata": {
    "ExecuteTime": {
     "end_time": "2018-11-30T17:38:41.319642Z",
     "start_time": "2018-11-30T17:38:41.315161Z"
    },
    "hidden": true
   },
   "source": [
    "<p><b>On the training set:</b></p>\n"
   ]
  },
  {
   "cell_type": "code",
   "execution_count": 111,
   "metadata": {
    "ExecuteTime": {
     "end_time": "2018-12-02T01:09:07.176710Z",
     "start_time": "2018-12-02T01:09:07.118441Z"
    },
    "hidden": true
   },
   "outputs": [],
   "source": [
    "LR_confusion_matrix_train, LR_classification_report_train = generate_prediction_results(y_train, LR_predictions_train)"
   ]
  },
  {
   "cell_type": "code",
   "execution_count": 112,
   "metadata": {
    "ExecuteTime": {
     "end_time": "2018-12-02T01:09:08.974134Z",
     "start_time": "2018-12-02T01:09:08.667274Z"
    },
    "hidden": true
   },
   "outputs": [
    {
     "data": {
      "image/png": "[encoded data removed]",
      "text/plain": [
       "<Figure size 432x288 with 2 Axes>"
      ]
     },
     "metadata": {
      "needs_background": "light"
     },
     "output_type": "display_data"
    }
   ],
   "source": [
    "# Confusion matrix\n",
    "labels = [1, 2, 3, 4, 5]\n",
    "pretty_print_cm(LR_confusion_matrix_train, labels)"
   ]
  },
  {
   "cell_type": "code",
   "execution_count": 113,
   "metadata": {
    "ExecuteTime": {
     "end_time": "2018-12-02T01:09:12.863009Z",
     "start_time": "2018-12-02T01:09:12.847688Z"
    },
    "hidden": true
   },
   "outputs": [
    {
     "data": {
      "text/html": [
       "<div>\n",
       "<style scoped>\n",
       "    .dataframe tbody tr th:only-of-type {\n",
       "        vertical-align: middle;\n",
       "    }\n",
       "\n",
       "    .dataframe tbody tr th {\n",
       "        vertical-align: top;\n",
       "    }\n",
       "\n",
       "    .dataframe thead th {\n",
       "        text-align: right;\n",
       "    }\n",
       "</style>\n",
       "<table border=\"1\" class=\"dataframe\">\n",
       "  <thead>\n",
       "    <tr style=\"text-align: right;\">\n",
       "      <th></th>\n",
       "      <th>1</th>\n",
       "      <th>2</th>\n",
       "      <th>3</th>\n",
       "      <th>4</th>\n",
       "      <th>5</th>\n",
       "      <th>macro avg</th>\n",
       "      <th>micro avg</th>\n",
       "      <th>weighted avg</th>\n",
       "    </tr>\n",
       "  </thead>\n",
       "  <tbody>\n",
       "    <tr>\n",
       "      <th>f1-score</th>\n",
       "      <td>0.628253</td>\n",
       "      <td>0.415427</td>\n",
       "      <td>0.417541</td>\n",
       "      <td>0.406243</td>\n",
       "      <td>0.581247</td>\n",
       "      <td>0.489742</td>\n",
       "      <td>0.498834</td>\n",
       "      <td>0.489742</td>\n",
       "    </tr>\n",
       "    <tr>\n",
       "      <th>precision</th>\n",
       "      <td>0.533595</td>\n",
       "      <td>0.441349</td>\n",
       "      <td>0.449976</td>\n",
       "      <td>0.448666</td>\n",
       "      <td>0.585109</td>\n",
       "      <td>0.491739</td>\n",
       "      <td>0.498834</td>\n",
       "      <td>0.491739</td>\n",
       "    </tr>\n",
       "    <tr>\n",
       "      <th>recall</th>\n",
       "      <td>0.763739</td>\n",
       "      <td>0.392381</td>\n",
       "      <td>0.389467</td>\n",
       "      <td>0.371149</td>\n",
       "      <td>0.577435</td>\n",
       "      <td>0.498834</td>\n",
       "      <td>0.498834</td>\n",
       "      <td>0.498834</td>\n",
       "    </tr>\n",
       "    <tr>\n",
       "      <th>support</th>\n",
       "      <td>4804.000000</td>\n",
       "      <td>4804.000000</td>\n",
       "      <td>4804.000000</td>\n",
       "      <td>4804.000000</td>\n",
       "      <td>4804.000000</td>\n",
       "      <td>24020.000000</td>\n",
       "      <td>24020.000000</td>\n",
       "      <td>24020.000000</td>\n",
       "    </tr>\n",
       "  </tbody>\n",
       "</table>\n",
       "</div>"
      ],
      "text/plain": [
       "                     1            2            3            4            5  \\\n",
       "f1-score      0.628253     0.415427     0.417541     0.406243     0.581247   \n",
       "precision     0.533595     0.441349     0.449976     0.448666     0.585109   \n",
       "recall        0.763739     0.392381     0.389467     0.371149     0.577435   \n",
       "support    4804.000000  4804.000000  4804.000000  4804.000000  4804.000000   \n",
       "\n",
       "              macro avg     micro avg  weighted avg  \n",
       "f1-score       0.489742      0.498834      0.489742  \n",
       "precision      0.491739      0.498834      0.491739  \n",
       "recall         0.498834      0.498834      0.498834  \n",
       "support    24020.000000  24020.000000  24020.000000  "
      ]
     },
     "execution_count": 113,
     "metadata": {},
     "output_type": "execute_result"
    }
   ],
   "source": [
    "pd.DataFrame(LR_classification_report_train)"
   ]
  },
  {
   "cell_type": "markdown",
   "metadata": {
    "ExecuteTime": {
     "end_time": "2018-11-30T17:40:10.044945Z",
     "start_time": "2018-11-30T17:40:10.040013Z"
    },
    "hidden": true
   },
   "source": [
    "<p><b>On the test set:</b></p>\n"
   ]
  },
  {
   "cell_type": "code",
   "execution_count": 114,
   "metadata": {
    "ExecuteTime": {
     "end_time": "2018-12-02T01:09:16.590118Z",
     "start_time": "2018-12-02T01:09:16.575542Z"
    },
    "hidden": true
   },
   "outputs": [],
   "source": [
    "LR_confusion_matrix_test, LR_classification_report_test = generate_prediction_results(y_test, LR_predictions_test)"
   ]
  },
  {
   "cell_type": "code",
   "execution_count": 115,
   "metadata": {
    "ExecuteTime": {
     "end_time": "2018-12-02T01:09:17.742727Z",
     "start_time": "2018-12-02T01:09:17.450541Z"
    },
    "hidden": true
   },
   "outputs": [
    {
     "data": {
      "image/png": "[encoded data removed]",
      "text/plain": [
       "<Figure size 432x288 with 2 Axes>"
      ]
     },
     "metadata": {
      "needs_background": "light"
     },
     "output_type": "display_data"
    }
   ],
   "source": [
    "# Confusion matrix\n",
    "labels = [1, 2, 3, 4, 5]\n",
    "pretty_print_cm(LR_confusion_matrix_test, labels)"
   ]
  },
  {
   "cell_type": "code",
   "execution_count": 116,
   "metadata": {
    "ExecuteTime": {
     "end_time": "2018-12-02T01:09:19.835788Z",
     "start_time": "2018-12-02T01:09:19.808694Z"
    },
    "hidden": true
   },
   "outputs": [
    {
     "data": {
      "text/html": [
       "<div>\n",
       "<style scoped>\n",
       "    .dataframe tbody tr th:only-of-type {\n",
       "        vertical-align: middle;\n",
       "    }\n",
       "\n",
       "    .dataframe tbody tr th {\n",
       "        vertical-align: top;\n",
       "    }\n",
       "\n",
       "    .dataframe thead th {\n",
       "        text-align: right;\n",
       "    }\n",
       "</style>\n",
       "<table border=\"1\" class=\"dataframe\">\n",
       "  <thead>\n",
       "    <tr style=\"text-align: right;\">\n",
       "      <th></th>\n",
       "      <th>1</th>\n",
       "      <th>2</th>\n",
       "      <th>3</th>\n",
       "      <th>4</th>\n",
       "      <th>5</th>\n",
       "      <th>macro avg</th>\n",
       "      <th>micro avg</th>\n",
       "      <th>weighted avg</th>\n",
       "    </tr>\n",
       "  </thead>\n",
       "  <tbody>\n",
       "    <tr>\n",
       "      <th>f1-score</th>\n",
       "      <td>0.485194</td>\n",
       "      <td>0.250729</td>\n",
       "      <td>0.344828</td>\n",
       "      <td>0.391273</td>\n",
       "      <td>0.641441</td>\n",
       "      <td>0.422693</td>\n",
       "      <td>0.475</td>\n",
       "      <td>0.482820</td>\n",
       "    </tr>\n",
       "    <tr>\n",
       "      <th>precision</th>\n",
       "      <td>0.394444</td>\n",
       "      <td>0.211302</td>\n",
       "      <td>0.325112</td>\n",
       "      <td>0.457483</td>\n",
       "      <td>0.698724</td>\n",
       "      <td>0.417413</td>\n",
       "      <td>0.475</td>\n",
       "      <td>0.506634</td>\n",
       "    </tr>\n",
       "    <tr>\n",
       "      <th>recall</th>\n",
       "      <td>0.630178</td>\n",
       "      <td>0.308244</td>\n",
       "      <td>0.367089</td>\n",
       "      <td>0.341804</td>\n",
       "      <td>0.592839</td>\n",
       "      <td>0.448031</td>\n",
       "      <td>0.475</td>\n",
       "      <td>0.475000</td>\n",
       "    </tr>\n",
       "    <tr>\n",
       "      <th>support</th>\n",
       "      <td>338.000000</td>\n",
       "      <td>279.000000</td>\n",
       "      <td>395.000000</td>\n",
       "      <td>787.000000</td>\n",
       "      <td>1201.000000</td>\n",
       "      <td>3000.000000</td>\n",
       "      <td>3000.000</td>\n",
       "      <td>3000.000000</td>\n",
       "    </tr>\n",
       "  </tbody>\n",
       "</table>\n",
       "</div>"
      ],
      "text/plain": [
       "                    1           2           3           4            5  \\\n",
       "f1-score     0.485194    0.250729    0.344828    0.391273     0.641441   \n",
       "precision    0.394444    0.211302    0.325112    0.457483     0.698724   \n",
       "recall       0.630178    0.308244    0.367089    0.341804     0.592839   \n",
       "support    338.000000  279.000000  395.000000  787.000000  1201.000000   \n",
       "\n",
       "             macro avg  micro avg  weighted avg  \n",
       "f1-score      0.422693      0.475      0.482820  \n",
       "precision     0.417413      0.475      0.506634  \n",
       "recall        0.448031      0.475      0.475000  \n",
       "support    3000.000000   3000.000   3000.000000  "
      ]
     },
     "execution_count": 116,
     "metadata": {},
     "output_type": "execute_result"
    }
   ],
   "source": [
    "pd.DataFrame(LR_classification_report_test)"
   ]
  },
  {
   "cell_type": "markdown",
   "metadata": {
    "ExecuteTime": {
     "end_time": "2018-12-02T01:16:46.899178Z",
     "start_time": "2018-12-02T01:14:34.809Z"
    }
   },
   "source": [
    "### Cross Validation"
   ]
  },
  {
   "cell_type": "markdown",
   "metadata": {
    "ExecuteTime": {
     "end_time": "2018-12-02T15:49:00.447454Z",
     "start_time": "2018-12-02T15:49:00.444618Z"
    }
   },
   "source": [
    "#### Balancing cross validation data"
   ]
  },
  {
   "cell_type": "code",
   "execution_count": 126,
   "metadata": {
    "ExecuteTime": {
     "end_time": "2018-12-02T20:40:00.600031Z",
     "start_time": "2018-12-02T20:40:00.278538Z"
    }
   },
   "outputs": [],
   "source": [
    "# Extracting a validation set\n",
    "X = final_df.drop(['stars'], 1)\n",
    "y = final_df['stars']\n",
    "X_cross, X_val, y_cross, y_val = train_test_split(X, y, test_size=0.2)"
   ]
  },
  {
   "cell_type": "code",
   "execution_count": 128,
   "metadata": {
    "ExecuteTime": {
     "end_time": "2018-12-02T20:43:07.960296Z",
     "start_time": "2018-12-02T20:41:16.846695Z"
    }
   },
   "outputs": [],
   "source": [
    "# Balancing the training set before training the models\n",
    "from imblearn.over_sampling import SMOTE\n",
    "\n",
    "sm = SMOTE()\n",
    "x_cols = X_cross.columns\n",
    "X_cross, y_cross = sm.fit_sample(X_cross, y_cross)\n",
    "X_cross = pd.DataFrame(X_cross, columns=x_cols)\n",
    "y_cross = pd.Series(y_cross)"
   ]
  },
  {
   "cell_type": "markdown",
   "metadata": {
    "heading_collapsed": true
   },
   "source": [
    "#### Naive Bayes"
   ]
  },
  {
   "cell_type": "code",
   "execution_count": 53,
   "metadata": {
    "ExecuteTime": {
     "end_time": "2018-12-02T20:14:10.538466Z",
     "start_time": "2018-12-02T20:13:51.608160Z"
    },
    "hidden": true
   },
   "outputs": [],
   "source": [
    "from sklearn.model_selection import StratifiedKFold\n",
    "from sklearn.model_selection import cross_validate\n",
    "from sklearn.naive_bayes import GaussianNB\n",
    "\n",
    "cv = StratifiedKFold(n_splits=10, shuffle=True)\n",
    "\n",
    "clf = GaussianNB()\n",
    "NB_cv_results = cross_validate(clf, X, y, cv=cv, return_train_score=True, scoring='f1_weighted')"
   ]
  },
  {
   "cell_type": "code",
   "execution_count": 54,
   "metadata": {
    "ExecuteTime": {
     "end_time": "2018-12-02T20:14:14.994591Z",
     "start_time": "2018-12-02T20:14:14.989878Z"
    },
    "hidden": true
   },
   "outputs": [
    {
     "name": "stdout",
     "output_type": "stream",
     "text": [
      "CV training score:  0.7499645412801194\n",
      "CV test score:  0.7375789531153637\n"
     ]
    }
   ],
   "source": [
    "print('CV training score: ', np.mean(NB_cv_results['train_score']))\n",
    "print('CV test score: ', np.mean(NB_cv_results['test_score']))"
   ]
  },
  {
   "cell_type": "markdown",
   "metadata": {
    "heading_collapsed": true
   },
   "source": [
    "#### MULTINOMIAL NAIVE BAYES"
   ]
  },
  {
   "cell_type": "code",
   "execution_count": 129,
   "metadata": {
    "ExecuteTime": {
     "end_time": "2018-12-02T20:44:39.208763Z",
     "start_time": "2018-12-02T20:44:31.730687Z"
    },
    "hidden": true
   },
   "outputs": [],
   "source": [
    "from sklearn.model_selection import StratifiedKFold\n",
    "from sklearn.model_selection import cross_validate\n",
    "from sklearn.naive_bayes import MultinomialNB\n",
    "\n",
    "cv = StratifiedKFold(n_splits=10, shuffle=True)\n",
    "\n",
    "clf = MultinomialNB()\n",
    "MNB_cv_results = cross_validate(clf, X_cross, y_cross, cv=cv, return_train_score=True, scoring='f1_weighted')"
   ]
  },
  {
   "cell_type": "code",
   "execution_count": 56,
   "metadata": {
    "ExecuteTime": {
     "end_time": "2018-12-02T20:14:25.204342Z",
     "start_time": "2018-12-02T20:14:25.198214Z"
    },
    "hidden": true
   },
   "outputs": [
    {
     "data": {
      "text/plain": [
       "{'alpha': 1.0, 'class_prior': None, 'fit_prior': True}"
      ]
     },
     "execution_count": 56,
     "metadata": {},
     "output_type": "execute_result"
    }
   ],
   "source": [
    "clf.get_params()"
   ]
  },
  {
   "cell_type": "code",
   "execution_count": 130,
   "metadata": {
    "ExecuteTime": {
     "end_time": "2018-12-02T20:44:42.820283Z",
     "start_time": "2018-12-02T20:44:42.812713Z"
    },
    "hidden": true
   },
   "outputs": [
    {
     "name": "stdout",
     "output_type": "stream",
     "text": [
      "CV training score:  0.6660522985864261\n",
      "CV test score:  0.6431299339353368\n"
     ]
    }
   ],
   "source": [
    "print('CV training score: ', np.mean(MNB_cv_results['train_score']))\n",
    "print('CV test score: ', np.mean(MNB_cv_results['test_score']))"
   ]
  },
  {
   "cell_type": "markdown",
   "metadata": {
    "heading_collapsed": true
   },
   "source": [
    "#### Logistic Regression"
   ]
  },
  {
   "cell_type": "code",
   "execution_count": 58,
   "metadata": {
    "ExecuteTime": {
     "end_time": "2018-12-02T20:16:26.585256Z",
     "start_time": "2018-12-02T20:14:37.039569Z"
    },
    "hidden": true
   },
   "outputs": [],
   "source": [
    "from sklearn.model_selection import StratifiedKFold\n",
    "from sklearn.model_selection import cross_validate\n",
    "from sklearn.linear_model import LogisticRegression\n",
    "\n",
    "cv = StratifiedKFold(n_splits=10, shuffle=True)\n",
    "clf = LogisticRegression(solver='lbfgs', multi_class='multinomial', max_iter=500)\n",
    "LR_cv_results = cross_validate(clf, X, y, cv=cv, return_train_score=True, scoring='f1_weighted')"
   ]
  },
  {
   "cell_type": "code",
   "execution_count": 59,
   "metadata": {
    "ExecuteTime": {
     "end_time": "2018-12-02T20:16:34.512507Z",
     "start_time": "2018-12-02T20:16:34.508106Z"
    },
    "hidden": true
   },
   "outputs": [
    {
     "name": "stdout",
     "output_type": "stream",
     "text": [
      "CV training score:  0.8435531637104738\n",
      "CV test score:  0.8238120912651599\n"
     ]
    }
   ],
   "source": [
    "print('CV training score: ', np.mean(LR_cv_results['train_score']))\n",
    "print('CV test score: ', np.mean(LR_cv_results['test_score']))"
   ]
  },
  {
   "cell_type": "markdown",
   "metadata": {
    "heading_collapsed": true
   },
   "source": [
    "## TUNING FUNCTION"
   ]
  },
  {
   "cell_type": "code",
   "execution_count": null,
   "metadata": {
    "hidden": true
   },
   "outputs": [],
   "source": [
    "def tune_MNB_cv(X, y, alpha_values):\n",
    "    '''\n",
    "    Tune Multinomial Bayes for different values of alpha\n",
    "    '''\n",
    "    import numpy as np\n",
    "    from sklearn.model_selection import cross_validate\n",
    "    from sklearn.naive_bayes import MultinomialNB\n",
    "    from sklearn.model_selection import StratifiedKFold\n",
    "\n",
    "    cv = StratifiedKFold(n_splits=10, shuffle=True)\n",
    "    scores = {}\n",
    "    \n",
    "    for alpha in alpha_values:\n",
    "        clf = MultinomialNB(alpha=alpha)\n",
    "        MNB_cv_results = cross_validate(clf, X, y, cv=cv, return_train_score=True, scoring='f1_weighted')\n",
    "        scores[alpha] = {'Train_score': np.mean(MNB_cv_results['train_score']), \n",
    "                         'Test_score': np.mean(MNB_cv_results['test_score'])}\n",
    "    \n",
    "    return scores"
   ]
  },
  {
   "cell_type": "markdown",
   "metadata": {
    "heading_collapsed": true
   },
   "source": [
    "## XGBClassifier (BONUS)"
   ]
  },
  {
   "cell_type": "code",
   "execution_count": 29,
   "metadata": {
    "ExecuteTime": {
     "end_time": "2018-12-02T18:23:58.968611Z",
     "start_time": "2018-12-02T18:20:08.520671Z"
    },
    "hidden": true
   },
   "outputs": [],
   "source": [
    "from sklearn.model_selection import StratifiedKFold\n",
    "from sklearn.model_selection import cross_validate\n",
    "import xgboost as xgb\n",
    "\n",
    "clf = xgb.XGBClassifier()\n",
    "clf.fit(X_train, y_train)\n",
    "\n",
    "xgb_predictions_train = clf.predict(X_train)\n",
    "xgb_predictions_test = clf.predict(X_test)"
   ]
  },
  {
   "cell_type": "code",
   "execution_count": 32,
   "metadata": {
    "ExecuteTime": {
     "end_time": "2018-12-02T18:25:30.401631Z",
     "start_time": "2018-12-02T18:25:30.349291Z"
    },
    "hidden": true
   },
   "outputs": [],
   "source": [
    "xgb_confusion_matrix_train, xgb_classification_report_train = generate_prediction_results(y_train, xgb_predictions_train)"
   ]
  },
  {
   "cell_type": "code",
   "execution_count": 33,
   "metadata": {
    "ExecuteTime": {
     "end_time": "2018-12-02T18:25:41.601564Z",
     "start_time": "2018-12-02T18:25:41.577954Z"
    },
    "hidden": true
   },
   "outputs": [
    {
     "data": {
      "text/html": [
       "<div>\n",
       "<style scoped>\n",
       "    .dataframe tbody tr th:only-of-type {\n",
       "        vertical-align: middle;\n",
       "    }\n",
       "\n",
       "    .dataframe tbody tr th {\n",
       "        vertical-align: top;\n",
       "    }\n",
       "\n",
       "    .dataframe thead th {\n",
       "        text-align: right;\n",
       "    }\n",
       "</style>\n",
       "<table border=\"1\" class=\"dataframe\">\n",
       "  <thead>\n",
       "    <tr style=\"text-align: right;\">\n",
       "      <th></th>\n",
       "      <th>1</th>\n",
       "      <th>2</th>\n",
       "      <th>3</th>\n",
       "      <th>4</th>\n",
       "      <th>5</th>\n",
       "      <th>macro avg</th>\n",
       "      <th>micro avg</th>\n",
       "      <th>weighted avg</th>\n",
       "    </tr>\n",
       "  </thead>\n",
       "  <tbody>\n",
       "    <tr>\n",
       "      <th>f1-score</th>\n",
       "      <td>0.821121</td>\n",
       "      <td>0.744405</td>\n",
       "      <td>0.717866</td>\n",
       "      <td>0.550924</td>\n",
       "      <td>0.678103</td>\n",
       "      <td>0.702484</td>\n",
       "      <td>0.703545</td>\n",
       "      <td>0.702484</td>\n",
       "    </tr>\n",
       "    <tr>\n",
       "      <th>precision</th>\n",
       "      <td>0.776655</td>\n",
       "      <td>0.780179</td>\n",
       "      <td>0.794200</td>\n",
       "      <td>0.564633</td>\n",
       "      <td>0.624206</td>\n",
       "      <td>0.707975</td>\n",
       "      <td>0.703545</td>\n",
       "      <td>0.707975</td>\n",
       "    </tr>\n",
       "    <tr>\n",
       "      <th>recall</th>\n",
       "      <td>0.870988</td>\n",
       "      <td>0.711768</td>\n",
       "      <td>0.654919</td>\n",
       "      <td>0.537864</td>\n",
       "      <td>0.742186</td>\n",
       "      <td>0.703545</td>\n",
       "      <td>0.703545</td>\n",
       "      <td>0.703545</td>\n",
       "    </tr>\n",
       "    <tr>\n",
       "      <th>support</th>\n",
       "      <td>4767.000000</td>\n",
       "      <td>4767.000000</td>\n",
       "      <td>4767.000000</td>\n",
       "      <td>4767.000000</td>\n",
       "      <td>4767.000000</td>\n",
       "      <td>23835.000000</td>\n",
       "      <td>23835.000000</td>\n",
       "      <td>23835.000000</td>\n",
       "    </tr>\n",
       "  </tbody>\n",
       "</table>\n",
       "</div>"
      ],
      "text/plain": [
       "                     1            2            3            4            5  \\\n",
       "f1-score      0.821121     0.744405     0.717866     0.550924     0.678103   \n",
       "precision     0.776655     0.780179     0.794200     0.564633     0.624206   \n",
       "recall        0.870988     0.711768     0.654919     0.537864     0.742186   \n",
       "support    4767.000000  4767.000000  4767.000000  4767.000000  4767.000000   \n",
       "\n",
       "              macro avg     micro avg  weighted avg  \n",
       "f1-score       0.702484      0.703545      0.702484  \n",
       "precision      0.707975      0.703545      0.707975  \n",
       "recall         0.703545      0.703545      0.703545  \n",
       "support    23835.000000  23835.000000  23835.000000  "
      ]
     },
     "execution_count": 33,
     "metadata": {},
     "output_type": "execute_result"
    }
   ],
   "source": [
    "pd.DataFrame(xgb_classification_report_train)"
   ]
  },
  {
   "cell_type": "code",
   "execution_count": 34,
   "metadata": {
    "ExecuteTime": {
     "end_time": "2018-12-02T18:26:13.428205Z",
     "start_time": "2018-12-02T18:26:13.410082Z"
    },
    "hidden": true
   },
   "outputs": [],
   "source": [
    "xgb_confusion_matrix_test, xgb_classification_report_test = generate_prediction_results(y_test, xgb_predictions_test)"
   ]
  },
  {
   "cell_type": "code",
   "execution_count": 35,
   "metadata": {
    "ExecuteTime": {
     "end_time": "2018-12-02T18:26:23.130882Z",
     "start_time": "2018-12-02T18:26:23.109799Z"
    },
    "hidden": true
   },
   "outputs": [
    {
     "data": {
      "text/html": [
       "<div>\n",
       "<style scoped>\n",
       "    .dataframe tbody tr th:only-of-type {\n",
       "        vertical-align: middle;\n",
       "    }\n",
       "\n",
       "    .dataframe tbody tr th {\n",
       "        vertical-align: top;\n",
       "    }\n",
       "\n",
       "    .dataframe thead th {\n",
       "        text-align: right;\n",
       "    }\n",
       "</style>\n",
       "<table border=\"1\" class=\"dataframe\">\n",
       "  <thead>\n",
       "    <tr style=\"text-align: right;\">\n",
       "      <th></th>\n",
       "      <th>1</th>\n",
       "      <th>2</th>\n",
       "      <th>3</th>\n",
       "      <th>4</th>\n",
       "      <th>5</th>\n",
       "      <th>macro avg</th>\n",
       "      <th>micro avg</th>\n",
       "      <th>weighted avg</th>\n",
       "    </tr>\n",
       "  </thead>\n",
       "  <tbody>\n",
       "    <tr>\n",
       "      <th>f1-score</th>\n",
       "      <td>0.612466</td>\n",
       "      <td>0.331967</td>\n",
       "      <td>0.310400</td>\n",
       "      <td>0.454930</td>\n",
       "      <td>0.669872</td>\n",
       "      <td>0.475927</td>\n",
       "      <td>0.538667</td>\n",
       "      <td>0.527568</td>\n",
       "    </tr>\n",
       "    <tr>\n",
       "      <th>precision</th>\n",
       "      <td>0.565000</td>\n",
       "      <td>0.344681</td>\n",
       "      <td>0.392713</td>\n",
       "      <td>0.477764</td>\n",
       "      <td>0.628099</td>\n",
       "      <td>0.481651</td>\n",
       "      <td>0.538667</td>\n",
       "      <td>0.524033</td>\n",
       "    </tr>\n",
       "    <tr>\n",
       "      <th>recall</th>\n",
       "      <td>0.668639</td>\n",
       "      <td>0.320158</td>\n",
       "      <td>0.256614</td>\n",
       "      <td>0.434180</td>\n",
       "      <td>0.717597</td>\n",
       "      <td>0.479438</td>\n",
       "      <td>0.538667</td>\n",
       "      <td>0.538667</td>\n",
       "    </tr>\n",
       "    <tr>\n",
       "      <th>support</th>\n",
       "      <td>338.000000</td>\n",
       "      <td>253.000000</td>\n",
       "      <td>378.000000</td>\n",
       "      <td>866.000000</td>\n",
       "      <td>1165.000000</td>\n",
       "      <td>3000.000000</td>\n",
       "      <td>3000.000000</td>\n",
       "      <td>3000.000000</td>\n",
       "    </tr>\n",
       "  </tbody>\n",
       "</table>\n",
       "</div>"
      ],
      "text/plain": [
       "                    1           2           3           4            5  \\\n",
       "f1-score     0.612466    0.331967    0.310400    0.454930     0.669872   \n",
       "precision    0.565000    0.344681    0.392713    0.477764     0.628099   \n",
       "recall       0.668639    0.320158    0.256614    0.434180     0.717597   \n",
       "support    338.000000  253.000000  378.000000  866.000000  1165.000000   \n",
       "\n",
       "             macro avg    micro avg  weighted avg  \n",
       "f1-score      0.475927     0.538667      0.527568  \n",
       "precision     0.481651     0.538667      0.524033  \n",
       "recall        0.479438     0.538667      0.538667  \n",
       "support    3000.000000  3000.000000   3000.000000  "
      ]
     },
     "execution_count": 35,
     "metadata": {},
     "output_type": "execute_result"
    }
   ],
   "source": [
    "pd.DataFrame(xgb_classification_report_test)"
   ]
  },
  {
   "cell_type": "code",
   "execution_count": null,
   "metadata": {
    "hidden": true
   },
   "outputs": [],
   "source": []
  }
 ],
 "metadata": {
  "kernelspec": {
   "display_name": "Python 3",
   "language": "python",
   "name": "python3"
  },
  "language_info": {
   "codemirror_mode": {
    "name": "ipython",
    "version": 3
   },
   "file_extension": ".py",
   "mimetype": "text/x-python",
   "name": "python",
   "nbconvert_exporter": "python",
   "pygments_lexer": "ipython3",
   "version": "3.5.6"
  },
  "varInspector": {
   "cols": {
    "lenName": 16,
    "lenType": 16,
    "lenVar": 40
   },
   "kernels_config": {
    "python": {
     "delete_cmd_postfix": "",
     "delete_cmd_prefix": "del ",
     "library": "var_list.py",
     "varRefreshCmd": "print(var_dic_list())"
    },
    "r": {
     "delete_cmd_postfix": ") ",
     "delete_cmd_prefix": "rm(",
     "library": "var_list.r",
     "varRefreshCmd": "cat(var_dic_list()) "
    }
   },
   "types_to_exclude": [
    "module",
    "function",
    "builtin_function_or_method",
    "instance",
    "_Feature"
   ],
   "window_display": false
  }
 },
 "nbformat": 4,
 "nbformat_minor": 2
}
